{
 "cells": [
  {
   "cell_type": "markdown",
   "id": "9e706a15",
   "metadata": {},
   "source": [
    "# Iterate over files in a folder"
   ]
  },
  {
   "cell_type": "code",
   "execution_count": 27,
   "id": "8d544be7",
   "metadata": {},
   "outputs": [
    {
     "data": {
      "text/plain": [
       "[PosixPath('/home/franol/Database/dataframe.xlsx'),\n",
       " PosixPath('/home/franol/Database/MasterFile/masterfile.xlsx'),\n",
       " PosixPath('/home/franol/Database/ProductMatch/CRD/ProductMatch_2015.xlsx'),\n",
       " PosixPath('/home/franol/Database/ProductMatch/DJI/ProductMatch_2013.xlsx'),\n",
       " PosixPath('/home/franol/Database/ProductMatch/BDI/ProductMatch_2014.xlsx'),\n",
       " PosixPath('/home/franol/Database/ProductMatch/CIV/ProductMatch_2016.xlsx'),\n",
       " PosixPath('/home/franol/Database/ProductMatch/ZAF/ProductMatch_2015.xlsx'),\n",
       " PosixPath('/home/franol/Database/ProductMatch/MAR/ProductMatch_2016.xlsx'),\n",
       " PosixPath('/home/franol/Database/ProductMatch/MLI/ProductMatch_2014.xlsx'),\n",
       " PosixPath('/home/franol/Database/ProductMatch/NER/ProductMatch_2016.xlsx'),\n",
       " PosixPath('/home/franol/Database/ProductMatch/UGA/ProductMatch_2010.xlsx'),\n",
       " PosixPath('/home/franol/Database/ProductMatch/CMR/ProductMatch_2016.xlsx'),\n",
       " PosixPath('/home/franol/Database/ProductMatch/BFA/ProductMatch_2015.xlsx'),\n",
       " PosixPath('/home/franol/Database/ProductMatch/BEN/ProductMatch_2015.xlsx'),\n",
       " PosixPath('/home/franol/Database/ProductMatch/MRT/ProductMatch_2015.xlsx'),\n",
       " PosixPath('/home/franol/Database/ProductMatch/GIN/ProductMatch_2016.xlsx'),\n",
       " PosixPath('/home/franol/Database/ProductMatch/AGO/ProductMatch_2009.xlsx'),\n",
       " PosixPath('/home/franol/Database/ProductMatch/CAF/ProductMatch_2016.xlsx'),\n",
       " PosixPath('/home/franol/Database/ProductMatch/TZA/ProductMatch_2007.xlsx'),\n",
       " PosixPath('/home/franol/Database/ProductMatch/TGO/ProductMatch_2014.xlsx'),\n",
       " PosixPath('/home/franol/Database/ProductMatch/NGA/ProductMatch_2010.xlsx'),\n",
       " PosixPath('/home/franol/Database/ProductMatch/TCD/ProductMatch_2016.xlsx'),\n",
       " PosixPath('/home/franol/Database/ProductMatch/COM/ProductMatch_2015.xlsx'),\n",
       " PosixPath('/home/franol/Database/ProductMatch/SEN/ProductMatch_2014.xlsx'),\n",
       " PosixPath('/home/franol/Database/ProductMatch/ZMB/ProductMatch_2010.xlsx'),\n",
       " PosixPath('/home/franol/Database/ProductMatch/MDG/ProductMatch_2007.xlsx')]"
      ]
     },
     "execution_count": 27,
     "metadata": {},
     "output_type": "execute_result"
    }
   ],
   "source": [
    "from pathlib import Path\n",
    "\n",
    "input_dir = Path.cwd() / \"/home/franol/Database\" # insert here the file path of the directory on your machine\n",
    "\n",
    "# glob = specific folder\n",
    "# rglob = including subfolder\n",
    "files = list(input_dir.rglob(\"*.xlsx*\"))\n",
    "files"
   ]
  },
  {
   "cell_type": "markdown",
   "id": "a304328b",
   "metadata": {},
   "source": [
    "# Merge all Excel files"
   ]
  },
  {
   "cell_type": "code",
   "execution_count": 28,
   "id": "d87b76f8",
   "metadata": {},
   "outputs": [],
   "source": [
    "from pathlib import Path\n",
    "import pandas as pd  # pip install pandas\n",
    "\n",
    "# Store dataframes in a list\n",
    "parts = []\n",
    "for path in list(input_dir.rglob(\"*.xlsx*\")):\n",
    "    part = pd.read_excel(path)\n",
    "    parts.append(part)"
   ]
  },
  {
   "cell_type": "code",
   "execution_count": 29,
   "id": "2a804df6",
   "metadata": {},
   "outputs": [],
   "source": [
    "# Concatenate dataframes\n",
    "df = pd.concat(parts)\n",
    "\n",
    "# Save merged dataframe to output directory\n",
    "output_dir = Path.cwd() / \"MasterFile\"\n",
    "output_dir.mkdir(exist_ok=True)\n",
    "df.to_excel(output_dir / \"masterfile.xlsx\", index=False)"
   ]
  },
  {
   "cell_type": "code",
   "execution_count": 30,
   "id": "fc2254e0",
   "metadata": {},
   "outputs": [
    {
     "data": {
      "text/html": [
       "<div><div id=c86a7d3e-a049-4aef-bb16-cb2f2f2ba8fa style=\"display:none; background-color:#9D6CFF; color:white; width:200px; height:30px; padding-left:5px; border-radius:4px; flex-direction:row; justify-content:space-around; align-items:center;\" onmouseover=\"this.style.backgroundColor='#BA9BF8'\" onmouseout=\"this.style.backgroundColor='#9D6CFF'\" onclick=\"window.commands?.execute('create-mitosheet-from-dataframe-output');\">See Full Dataframe in Mito</div> <script> if (window.commands?.hasCommand('create-mitosheet-from-dataframe-output')) document.getElementById('c86a7d3e-a049-4aef-bb16-cb2f2f2ba8fa').style.display = 'flex' </script> <table border=\"1\" class=\"dataframe\">\n",
       "  <thead>\n",
       "    <tr style=\"text-align: right;\">\n",
       "      <th></th>\n",
       "      <th>Unnamed: 0</th>\n",
       "      <th>ProductCode</th>\n",
       "      <th>ProductDescription</th>\n",
       "      <th>CPC21Code</th>\n",
       "      <th>CPC21Description</th>\n",
       "      <th>Unnamed: 4</th>\n",
       "    </tr>\n",
       "  </thead>\n",
       "  <tbody>\n",
       "    <tr>\n",
       "      <th>0</th>\n",
       "      <td>0.0</td>\n",
       "      <td>10</td>\n",
       "      <td>Produits de l'agriculture vivriere</td>\n",
       "      <td>01</td>\n",
       "      <td>NaN</td>\n",
       "      <td>NaN</td>\n",
       "    </tr>\n",
       "    <tr>\n",
       "      <th>1</th>\n",
       "      <td>1.0</td>\n",
       "      <td>20</td>\n",
       "      <td>Produits de l'agriculture industrielle et d'exportation</td>\n",
       "      <td>01</td>\n",
       "      <td>NaN</td>\n",
       "      <td>NaN</td>\n",
       "    </tr>\n",
       "    <tr>\n",
       "      <th>2</th>\n",
       "      <td>2.0</td>\n",
       "      <td>30</td>\n",
       "      <td>Produits de l'elevage, peche, pisciculture</td>\n",
       "      <td>02; 04</td>\n",
       "      <td>NaN</td>\n",
       "      <td>NaN</td>\n",
       "    </tr>\n",
       "    <tr>\n",
       "      <th>3</th>\n",
       "      <td>3.0</td>\n",
       "      <td>40</td>\n",
       "      <td>Produits de la foret, exploitation forestiere,..</td>\n",
       "      <td>03</td>\n",
       "      <td>NaN</td>\n",
       "      <td>NaN</td>\n",
       "    </tr>\n",
       "    <tr>\n",
       "      <th>4</th>\n",
       "      <td>4.0</td>\n",
       "      <td>51</td>\n",
       "      <td>Hydrocarbures, charbon, ..</td>\n",
       "      <td>11; 12</td>\n",
       "      <td>NaN</td>\n",
       "      <td>NaN</td>\n",
       "    </tr>\n",
       "  </tbody>\n",
       "</table></div>"
      ],
      "text/plain": [
       "   Unnamed: 0 ProductCode                                 ProductDescription  \\\n",
       "0         0.0          10                 Produits de l'agriculture vivriere   \n",
       "1         1.0          20  Produits de l'agriculture industrielle et d'ex...   \n",
       "2         2.0          30         Produits de l'elevage, peche, pisciculture   \n",
       "3         3.0          40   Produits de la foret, exploitation forestiere,..   \n",
       "4         4.0          51                         Hydrocarbures, charbon, ..   \n",
       "\n",
       "  CPC21Code CPC21Description Unnamed: 4  \n",
       "0        01              NaN        NaN  \n",
       "1        01              NaN        NaN  \n",
       "2    02; 04              NaN        NaN  \n",
       "3        03              NaN        NaN  \n",
       "4    11; 12              NaN        NaN  "
      ]
     },
     "execution_count": 30,
     "metadata": {},
     "output_type": "execute_result"
    }
   ],
   "source": [
    "df.head()"
   ]
  },
  {
   "cell_type": "markdown",
   "id": "f6953c8e",
   "metadata": {},
   "source": [
    "#### Whenever unwanted coloumns apper we can delete them like this before proceding to analyzing the data "
   ]
  },
  {
   "cell_type": "code",
   "execution_count": 47,
   "id": "574fc84f",
   "metadata": {},
   "outputs": [],
   "source": [
    "df.drop('Unnamed: 0', axis=1, inplace=True)"
   ]
  },
  {
   "cell_type": "code",
   "execution_count": 48,
   "id": "65b2274e",
   "metadata": {},
   "outputs": [
    {
     "data": {
      "text/html": [
       "<div><div id=22b810f1-5808-469b-8d1f-d7ce82b551c2 style=\"display:none; background-color:#9D6CFF; color:white; width:200px; height:30px; padding-left:5px; border-radius:4px; flex-direction:row; justify-content:space-around; align-items:center;\" onmouseover=\"this.style.backgroundColor='#BA9BF8'\" onmouseout=\"this.style.backgroundColor='#9D6CFF'\" onclick=\"window.commands?.execute('create-mitosheet-from-dataframe-output');\">See Full Dataframe in Mito</div> <script> if (window.commands?.hasCommand('create-mitosheet-from-dataframe-output')) document.getElementById('22b810f1-5808-469b-8d1f-d7ce82b551c2').style.display = 'flex' </script> <table border=\"1\" class=\"dataframe\">\n",
       "  <thead>\n",
       "    <tr style=\"text-align: right;\">\n",
       "      <th></th>\n",
       "      <th>ProductCode</th>\n",
       "      <th>ProductDescription</th>\n",
       "      <th>CPC21Code</th>\n",
       "      <th>CPC21Description</th>\n",
       "    </tr>\n",
       "  </thead>\n",
       "  <tbody>\n",
       "    <tr>\n",
       "      <th>0</th>\n",
       "      <td>10</td>\n",
       "      <td>Produits de l'agriculture vivriere</td>\n",
       "      <td>01</td>\n",
       "      <td>0</td>\n",
       "    </tr>\n",
       "    <tr>\n",
       "      <th>1</th>\n",
       "      <td>20</td>\n",
       "      <td>Produits de l'agriculture industrielle et d'exportation</td>\n",
       "      <td>01</td>\n",
       "      <td>0</td>\n",
       "    </tr>\n",
       "    <tr>\n",
       "      <th>2</th>\n",
       "      <td>30</td>\n",
       "      <td>Produits de l'elevage, peche, pisciculture</td>\n",
       "      <td>02; 04</td>\n",
       "      <td>0</td>\n",
       "    </tr>\n",
       "    <tr>\n",
       "      <th>3</th>\n",
       "      <td>40</td>\n",
       "      <td>Produits de la foret, exploitation forestiere,..</td>\n",
       "      <td>03</td>\n",
       "      <td>0</td>\n",
       "    </tr>\n",
       "    <tr>\n",
       "      <th>4</th>\n",
       "      <td>51</td>\n",
       "      <td>Hydrocarbures, charbon, ..</td>\n",
       "      <td>11; 12</td>\n",
       "      <td>0</td>\n",
       "    </tr>\n",
       "  </tbody>\n",
       "</table></div>"
      ],
      "text/plain": [
       "  ProductCode                                 ProductDescription CPC21Code  \\\n",
       "0          10                 Produits de l'agriculture vivriere        01   \n",
       "1          20  Produits de l'agriculture industrielle et d'ex...        01   \n",
       "2          30         Produits de l'elevage, peche, pisciculture    02; 04   \n",
       "3          40   Produits de la foret, exploitation forestiere,..        03   \n",
       "4          51                         Hydrocarbures, charbon, ..    11; 12   \n",
       "\n",
       "  CPC21Description  \n",
       "0                0  \n",
       "1                0  \n",
       "2                0  \n",
       "3                0  \n",
       "4                0  "
      ]
     },
     "execution_count": 48,
     "metadata": {},
     "output_type": "execute_result"
    }
   ],
   "source": [
    "# Show the data frame\n",
    "df.fillna(0,inplace=True)\n",
    "df.head()"
   ]
  },
  {
   "cell_type": "code",
   "execution_count": 49,
   "id": "e1c77b86",
   "metadata": {},
   "outputs": [
    {
     "data": {
      "text/html": [
       "<div><div id=5bee9252-ea72-4e3f-90e1-0aa08bdecf11 style=\"display:none; background-color:#9D6CFF; color:white; width:200px; height:30px; padding-left:5px; border-radius:4px; flex-direction:row; justify-content:space-around; align-items:center;\" onmouseover=\"this.style.backgroundColor='#BA9BF8'\" onmouseout=\"this.style.backgroundColor='#9D6CFF'\" onclick=\"window.commands?.execute('create-mitosheet-from-dataframe-output');\">See Full Dataframe in Mito</div> <script> if (window.commands?.hasCommand('create-mitosheet-from-dataframe-output')) document.getElementById('5bee9252-ea72-4e3f-90e1-0aa08bdecf11').style.display = 'flex' </script> <table border=\"1\" class=\"dataframe\">\n",
       "  <thead>\n",
       "    <tr style=\"text-align: right;\">\n",
       "      <th></th>\n",
       "      <th>ProductCode</th>\n",
       "      <th>ProductDescription</th>\n",
       "      <th>CPC21Code</th>\n",
       "      <th>CPC21Description</th>\n",
       "    </tr>\n",
       "  </thead>\n",
       "  <tbody>\n",
       "  </tbody>\n",
       "</table></div>"
      ],
      "text/plain": [
       "Empty DataFrame\n",
       "Columns: [ProductCode, ProductDescription, CPC21Code, CPC21Description]\n",
       "Index: []"
      ]
     },
     "execution_count": 49,
     "metadata": {},
     "output_type": "execute_result"
    }
   ],
   "source": [
    "# Replacing out any NAN value with Zero\n",
    "df[df.isnull().any(axis=1)]"
   ]
  },
  {
   "cell_type": "markdown",
   "id": "ea576d07",
   "metadata": {},
   "source": [
    "## from here you can filter the database as desired using the product descriptions "
   ]
  },
  {
   "cell_type": "code",
   "execution_count": 55,
   "id": "faadfe21",
   "metadata": {
    "scrolled": false
   },
   "outputs": [
    {
     "data": {
      "text/html": [
       "<div><div id=e1296bca-58cd-479a-9cfe-466a5244d545 style=\"display:none; background-color:#9D6CFF; color:white; width:200px; height:30px; padding-left:5px; border-radius:4px; flex-direction:row; justify-content:space-around; align-items:center;\" onmouseover=\"this.style.backgroundColor='#BA9BF8'\" onmouseout=\"this.style.backgroundColor='#9D6CFF'\" onclick=\"window.commands?.execute('create-mitosheet-from-dataframe-output');\">See Full Dataframe in Mito</div> <script> if (window.commands?.hasCommand('create-mitosheet-from-dataframe-output')) document.getElementById('e1296bca-58cd-479a-9cfe-466a5244d545').style.display = 'flex' </script> <table border=\"1\" class=\"dataframe\">\n",
       "  <thead>\n",
       "    <tr style=\"text-align: right;\">\n",
       "      <th></th>\n",
       "      <th>ProductCode</th>\n",
       "      <th>ProductDescription</th>\n",
       "      <th>CPC21Code</th>\n",
       "      <th>CPC21Description</th>\n",
       "    </tr>\n",
       "  </thead>\n",
       "  <tbody>\n",
       "    <tr>\n",
       "      <th>2</th>\n",
       "      <td>30</td>\n",
       "      <td>Produits de l'elevage, peche, pisciculture</td>\n",
       "      <td>02; 04</td>\n",
       "      <td>0</td>\n",
       "    </tr>\n",
       "    <tr>\n",
       "      <th>510</th>\n",
       "      <td>23</td>\n",
       "      <td>Produits de le peche et de la pisciculture</td>\n",
       "      <td>04</td>\n",
       "      <td>Fish and other fishing products</td>\n",
       "    </tr>\n",
       "    <tr>\n",
       "      <th>680</th>\n",
       "      <td>23</td>\n",
       "      <td>Produits de le peche et de la pisciculture</td>\n",
       "      <td>04</td>\n",
       "      <td>Fish and other fishing products</td>\n",
       "    </tr>\n",
       "    <tr>\n",
       "      <th>2</th>\n",
       "      <td>30</td>\n",
       "      <td>Produits de l'elevage, peche, pisciculture</td>\n",
       "      <td>02; 04</td>\n",
       "      <td>0</td>\n",
       "    </tr>\n",
       "    <tr>\n",
       "      <th>510</th>\n",
       "      <td>23</td>\n",
       "      <td>Produits de le peche et de la pisciculture</td>\n",
       "      <td>04</td>\n",
       "      <td>Fish and other fishing products</td>\n",
       "    </tr>\n",
       "    <tr>\n",
       "      <th>680</th>\n",
       "      <td>23</td>\n",
       "      <td>Produits de le peche et de la pisciculture</td>\n",
       "      <td>04</td>\n",
       "      <td>Fish and other fishing products</td>\n",
       "    </tr>\n",
       "    <tr>\n",
       "      <th>2</th>\n",
       "      <td>30</td>\n",
       "      <td>Produits de l'elevage, peche, pisciculture</td>\n",
       "      <td>02; 04</td>\n",
       "      <td>0</td>\n",
       "    </tr>\n",
       "    <tr>\n",
       "      <th>3</th>\n",
       "      <td>23</td>\n",
       "      <td>Produits de le peche et de la pisciculture</td>\n",
       "      <td>04</td>\n",
       "      <td>Fish and other fishing products</td>\n",
       "    </tr>\n",
       "    <tr>\n",
       "      <th>3</th>\n",
       "      <td>23</td>\n",
       "      <td>Produits de le peche et de la pisciculture</td>\n",
       "      <td>04</td>\n",
       "      <td>Fish and other fishing products</td>\n",
       "    </tr>\n",
       "  </tbody>\n",
       "</table></div>"
      ],
      "text/plain": [
       "    ProductCode                           ProductDescription CPC21Code  \\\n",
       "2            30   Produits de l'elevage, peche, pisciculture    02; 04   \n",
       "510          23   Produits de le peche et de la pisciculture        04   \n",
       "680          23   Produits de le peche et de la pisciculture        04   \n",
       "2            30   Produits de l'elevage, peche, pisciculture    02; 04   \n",
       "510          23   Produits de le peche et de la pisciculture        04   \n",
       "680          23   Produits de le peche et de la pisciculture        04   \n",
       "2            30   Produits de l'elevage, peche, pisciculture    02; 04   \n",
       "3            23   Produits de le peche et de la pisciculture        04   \n",
       "3            23   Produits de le peche et de la pisciculture        04   \n",
       "\n",
       "                    CPC21Description  \n",
       "2                                  0  \n",
       "510  Fish and other fishing products  \n",
       "680  Fish and other fishing products  \n",
       "2                                  0  \n",
       "510  Fish and other fishing products  \n",
       "680  Fish and other fishing products  \n",
       "2                                  0  \n",
       "3    Fish and other fishing products  \n",
       "3    Fish and other fishing products  "
      ]
     },
     "execution_count": 55,
     "metadata": {},
     "output_type": "execute_result"
    }
   ],
   "source": [
    "\n",
    "df2 = df[df['ProductDescription'].str.contains('peche', na = False)]\n",
    "df2"
   ]
  },
  {
   "cell_type": "markdown",
   "id": "9b9d0e99",
   "metadata": {},
   "source": [
    "#### If you want to download the cleand dataframe to excel file run the below code"
   ]
  },
  {
   "cell_type": "code",
   "execution_count": 56,
   "id": "a7278130",
   "metadata": {},
   "outputs": [],
   "source": [
    "\n",
    "df.to_excel('cleaned.xlsx', index = False)"
   ]
  },
  {
   "cell_type": "code",
   "execution_count": null,
   "id": "04fa08bc",
   "metadata": {},
   "outputs": [],
   "source": []
  }
 ],
 "metadata": {
  "kernelspec": {
   "display_name": "Python 3 (ipykernel)",
   "language": "python",
   "name": "python3"
  },
  "language_info": {
   "codemirror_mode": {
    "name": "ipython",
    "version": 3
   },
   "file_extension": ".py",
   "mimetype": "text/x-python",
   "name": "python",
   "nbconvert_exporter": "python",
   "pygments_lexer": "ipython3",
   "version": "3.7.6"
  }
 },
 "nbformat": 4,
 "nbformat_minor": 5
}
