{
 "cells": [
  {
   "cell_type": "markdown",
   "id": "9e706a15",
   "metadata": {},
   "source": [
    "# Iterate over files in a folder"
   ]
  },
  {
   "cell_type": "code",
   "execution_count": 17,
   "id": "8d544be7",
   "metadata": {},
   "outputs": [
    {
     "data": {
      "text/plain": [
       "[PosixPath('/home/franol/Database/ProductMatch/CRD/ProductMatch_2015.xlsx'),\n",
       " PosixPath('/home/franol/Database/ProductMatch/DJI/ProductMatch_2013.xlsx'),\n",
       " PosixPath('/home/franol/Database/ProductMatch/BDI/ProductMatch_2014.xlsx'),\n",
       " PosixPath('/home/franol/Database/ProductMatch/CIV/ProductMatch_2016.xlsx'),\n",
       " PosixPath('/home/franol/Database/ProductMatch/ZAF/ProductMatch_2015.xlsx'),\n",
       " PosixPath('/home/franol/Database/ProductMatch/MAR/ProductMatch_2016.xlsx'),\n",
       " PosixPath('/home/franol/Database/ProductMatch/MLI/ProductMatch_2014.xlsx'),\n",
       " PosixPath('/home/franol/Database/ProductMatch/NER/ProductMatch_2016.xlsx'),\n",
       " PosixPath('/home/franol/Database/ProductMatch/UGA/ProductMatch_2010.xlsx'),\n",
       " PosixPath('/home/franol/Database/ProductMatch/CMR/ProductMatch_2016.xlsx'),\n",
       " PosixPath('/home/franol/Database/ProductMatch/BFA/ProductMatch_2015.xlsx'),\n",
       " PosixPath('/home/franol/Database/ProductMatch/BEN/ProductMatch_2015.xlsx'),\n",
       " PosixPath('/home/franol/Database/ProductMatch/MRT/ProductMatch_2015.xlsx'),\n",
       " PosixPath('/home/franol/Database/ProductMatch/GIN/ProductMatch_2016.xlsx'),\n",
       " PosixPath('/home/franol/Database/ProductMatch/AGO/ProductMatch_2009.xlsx'),\n",
       " PosixPath('/home/franol/Database/ProductMatch/CAF/ProductMatch_2016.xlsx'),\n",
       " PosixPath('/home/franol/Database/ProductMatch/TZA/ProductMatch_2007.xlsx'),\n",
       " PosixPath('/home/franol/Database/ProductMatch/TGO/ProductMatch_2014.xlsx'),\n",
       " PosixPath('/home/franol/Database/ProductMatch/NGA/ProductMatch_2010.xlsx'),\n",
       " PosixPath('/home/franol/Database/ProductMatch/TCD/ProductMatch_2016.xlsx'),\n",
       " PosixPath('/home/franol/Database/ProductMatch/COM/ProductMatch_2015.xlsx'),\n",
       " PosixPath('/home/franol/Database/ProductMatch/SEN/ProductMatch_2014.xlsx'),\n",
       " PosixPath('/home/franol/Database/ProductMatch/ZMB/ProductMatch_2010.xlsx'),\n",
       " PosixPath('/home/franol/Database/ProductMatch/MDG/ProductMatch_2007.xlsx')]"
      ]
     },
     "execution_count": 17,
     "metadata": {},
     "output_type": "execute_result"
    }
   ],
   "source": [
    "from pathlib import Path\n",
    "\n",
    "input_dir = Path.cwd() / \"/home/franol/Database/ProductMatch\" # insert here the file path of the directory on your machine\n",
    "# on windows computer insert the path like this r\"C:\\Users\\your\\file\\path\n",
    "\n",
    "# glob = specific folder\n",
    "# rglob = including subfolder\n",
    "files = list(input_dir.rglob(\"*.xlsx*\"))\n",
    "files"
   ]
  },
  {
   "cell_type": "markdown",
   "id": "a304328b",
   "metadata": {},
   "source": [
    "# Merge all Excel files"
   ]
  },
  {
   "cell_type": "code",
   "execution_count": 18,
   "id": "d87b76f8",
   "metadata": {},
   "outputs": [],
   "source": [
    "from pathlib import Path\n",
    "import pandas as pd  # pip install pandas\n",
    "\n",
    "# Store dataframes in a list\n",
    "parts = []\n",
    "for path in list(input_dir.rglob(\"*.xlsx*\")):\n",
    "    part = pd.read_excel(path)\n",
    "    parts.append(part)"
   ]
  },
  {
   "cell_type": "code",
   "execution_count": 19,
   "id": "2a804df6",
   "metadata": {},
   "outputs": [],
   "source": [
    "# Concatenate dataframes\n",
    "df = pd.concat(parts)\n",
    "\n",
    "# Save merged dataframe to output directory\n",
    "output_dir = Path.cwd() / \"MasterFile\"\n",
    "output_dir.mkdir(exist_ok=True)\n",
    "df.to_excel(output_dir / \"masterfile.xlsx\", index=False)"
   ]
  },
  {
   "cell_type": "code",
   "execution_count": 20,
   "id": "fc2254e0",
   "metadata": {},
   "outputs": [
    {
     "data": {
      "text/html": [
       "<div><div id=5d88eb5d-a295-4c96-8ff8-2858dec76aad style=\"display:none; background-color:#9D6CFF; color:white; width:200px; height:30px; padding-left:5px; border-radius:4px; flex-direction:row; justify-content:space-around; align-items:center;\" onmouseover=\"this.style.backgroundColor='#BA9BF8'\" onmouseout=\"this.style.backgroundColor='#9D6CFF'\" onclick=\"window.commands?.execute('create-mitosheet-from-dataframe-output');\">See Full Dataframe in Mito</div> <script> if (window.commands?.hasCommand('create-mitosheet-from-dataframe-output')) document.getElementById('5d88eb5d-a295-4c96-8ff8-2858dec76aad').style.display = 'flex' </script> <table border=\"1\" class=\"dataframe\">\n",
       "  <thead>\n",
       "    <tr style=\"text-align: right;\">\n",
       "      <th></th>\n",
       "      <th>ProductCode</th>\n",
       "      <th>ProductDescription</th>\n",
       "      <th>CPC21Code</th>\n",
       "      <th>CPC21Description</th>\n",
       "      <th>Unnamed: 4</th>\n",
       "    </tr>\n",
       "  </thead>\n",
       "  <tbody>\n",
       "    <tr>\n",
       "      <th>0</th>\n",
       "      <td>10</td>\n",
       "      <td>Produits de l'agriculture vivriere</td>\n",
       "      <td>01</td>\n",
       "      <td>NaN</td>\n",
       "      <td>NaN</td>\n",
       "    </tr>\n",
       "    <tr>\n",
       "      <th>1</th>\n",
       "      <td>20</td>\n",
       "      <td>Produits de l'agriculture industrielle et d'exportation</td>\n",
       "      <td>01</td>\n",
       "      <td>NaN</td>\n",
       "      <td>NaN</td>\n",
       "    </tr>\n",
       "    <tr>\n",
       "      <th>2</th>\n",
       "      <td>30</td>\n",
       "      <td>Produits de l'elevage, peche, pisciculture</td>\n",
       "      <td>02; 04</td>\n",
       "      <td>NaN</td>\n",
       "      <td>NaN</td>\n",
       "    </tr>\n",
       "    <tr>\n",
       "      <th>3</th>\n",
       "      <td>40</td>\n",
       "      <td>Produits de la foret, exploitation forestiere,..</td>\n",
       "      <td>03</td>\n",
       "      <td>NaN</td>\n",
       "      <td>NaN</td>\n",
       "    </tr>\n",
       "    <tr>\n",
       "      <th>4</th>\n",
       "      <td>51</td>\n",
       "      <td>Hydrocarbures, charbon, ..</td>\n",
       "      <td>11; 12</td>\n",
       "      <td>NaN</td>\n",
       "      <td>NaN</td>\n",
       "    </tr>\n",
       "  </tbody>\n",
       "</table></div>"
      ],
      "text/plain": [
       "  ProductCode                                 ProductDescription CPC21Code  \\\n",
       "0          10                 Produits de l'agriculture vivriere        01   \n",
       "1          20  Produits de l'agriculture industrielle et d'ex...        01   \n",
       "2          30         Produits de l'elevage, peche, pisciculture    02; 04   \n",
       "3          40   Produits de la foret, exploitation forestiere,..        03   \n",
       "4          51                         Hydrocarbures, charbon, ..    11; 12   \n",
       "\n",
       "  CPC21Description Unnamed: 4  \n",
       "0              NaN        NaN  \n",
       "1              NaN        NaN  \n",
       "2              NaN        NaN  \n",
       "3              NaN        NaN  \n",
       "4              NaN        NaN  "
      ]
     },
     "execution_count": 20,
     "metadata": {},
     "output_type": "execute_result"
    }
   ],
   "source": [
    "df.head()"
   ]
  },
  {
   "cell_type": "markdown",
   "id": "7889f56f",
   "metadata": {},
   "source": [
    "#### Whenever unwanted coloumns apper we can delete them like this before proceding to analyzing the data "
   ]
  },
  {
   "cell_type": "code",
   "execution_count": 21,
   "id": "574fc84f",
   "metadata": {},
   "outputs": [],
   "source": [
    "df.drop('Unnamed: 4', axis=1, inplace=True)"
   ]
  },
  {
   "cell_type": "code",
   "execution_count": 22,
   "id": "d1d886de",
   "metadata": {},
   "outputs": [
    {
     "data": {
      "text/html": [
       "<div><div id=0fdadde1-0679-477f-8263-a0bbe07617ac style=\"display:none; background-color:#9D6CFF; color:white; width:200px; height:30px; padding-left:5px; border-radius:4px; flex-direction:row; justify-content:space-around; align-items:center;\" onmouseover=\"this.style.backgroundColor='#BA9BF8'\" onmouseout=\"this.style.backgroundColor='#9D6CFF'\" onclick=\"window.commands?.execute('create-mitosheet-from-dataframe-output');\">See Full Dataframe in Mito</div> <script> if (window.commands?.hasCommand('create-mitosheet-from-dataframe-output')) document.getElementById('0fdadde1-0679-477f-8263-a0bbe07617ac').style.display = 'flex' </script> <table border=\"1\" class=\"dataframe\">\n",
       "  <thead>\n",
       "    <tr style=\"text-align: right;\">\n",
       "      <th></th>\n",
       "      <th>ProductCode</th>\n",
       "      <th>ProductDescription</th>\n",
       "      <th>CPC21Code</th>\n",
       "      <th>CPC21Description</th>\n",
       "    </tr>\n",
       "  </thead>\n",
       "  <tbody>\n",
       "    <tr>\n",
       "      <th>0</th>\n",
       "      <td>10</td>\n",
       "      <td>Produits de l'agriculture vivriere</td>\n",
       "      <td>01</td>\n",
       "      <td>0</td>\n",
       "    </tr>\n",
       "    <tr>\n",
       "      <th>1</th>\n",
       "      <td>20</td>\n",
       "      <td>Produits de l'agriculture industrielle et d'exportation</td>\n",
       "      <td>01</td>\n",
       "      <td>0</td>\n",
       "    </tr>\n",
       "    <tr>\n",
       "      <th>2</th>\n",
       "      <td>30</td>\n",
       "      <td>Produits de l'elevage, peche, pisciculture</td>\n",
       "      <td>02; 04</td>\n",
       "      <td>0</td>\n",
       "    </tr>\n",
       "    <tr>\n",
       "      <th>3</th>\n",
       "      <td>40</td>\n",
       "      <td>Produits de la foret, exploitation forestiere,..</td>\n",
       "      <td>03</td>\n",
       "      <td>0</td>\n",
       "    </tr>\n",
       "    <tr>\n",
       "      <th>4</th>\n",
       "      <td>51</td>\n",
       "      <td>Hydrocarbures, charbon, ..</td>\n",
       "      <td>11; 12</td>\n",
       "      <td>0</td>\n",
       "    </tr>\n",
       "  </tbody>\n",
       "</table></div>"
      ],
      "text/plain": [
       "  ProductCode                                 ProductDescription CPC21Code  \\\n",
       "0          10                 Produits de l'agriculture vivriere        01   \n",
       "1          20  Produits de l'agriculture industrielle et d'ex...        01   \n",
       "2          30         Produits de l'elevage, peche, pisciculture    02; 04   \n",
       "3          40   Produits de la foret, exploitation forestiere,..        03   \n",
       "4          51                         Hydrocarbures, charbon, ..    11; 12   \n",
       "\n",
       "  CPC21Description  \n",
       "0                0  \n",
       "1                0  \n",
       "2                0  \n",
       "3                0  \n",
       "4                0  "
      ]
     },
     "execution_count": 22,
     "metadata": {},
     "output_type": "execute_result"
    }
   ],
   "source": [
    "# Show the data frame\n",
    "df.fillna(0,inplace=True)\n",
    "df = df.reset_index(drop=True)\n",
    "df.head()"
   ]
  },
  {
   "cell_type": "code",
   "execution_count": 23,
   "id": "33303986",
   "metadata": {},
   "outputs": [
    {
     "data": {
      "text/html": [
       "<div><div id=8fb1872c-fcbb-4857-8923-c3443001edb8 style=\"display:none; background-color:#9D6CFF; color:white; width:200px; height:30px; padding-left:5px; border-radius:4px; flex-direction:row; justify-content:space-around; align-items:center;\" onmouseover=\"this.style.backgroundColor='#BA9BF8'\" onmouseout=\"this.style.backgroundColor='#9D6CFF'\" onclick=\"window.commands?.execute('create-mitosheet-from-dataframe-output');\">See Full Dataframe in Mito</div> <script> if (window.commands?.hasCommand('create-mitosheet-from-dataframe-output')) document.getElementById('8fb1872c-fcbb-4857-8923-c3443001edb8').style.display = 'flex' </script> <table border=\"1\" class=\"dataframe\">\n",
       "  <thead>\n",
       "    <tr style=\"text-align: right;\">\n",
       "      <th></th>\n",
       "      <th>ProductCode</th>\n",
       "      <th>ProductDescription</th>\n",
       "      <th>CPC21Code</th>\n",
       "      <th>CPC21Description</th>\n",
       "    </tr>\n",
       "  </thead>\n",
       "  <tbody>\n",
       "  </tbody>\n",
       "</table></div>"
      ],
      "text/plain": [
       "Empty DataFrame\n",
       "Columns: [ProductCode, ProductDescription, CPC21Code, CPC21Description]\n",
       "Index: []"
      ]
     },
     "execution_count": 23,
     "metadata": {},
     "output_type": "execute_result"
    }
   ],
   "source": [
    "# Replacing out any NAN value with Zero\n",
    "df[df.isnull().any(axis=1)]"
   ]
  },
  {
   "cell_type": "markdown",
   "id": "5e658d3c",
   "metadata": {},
   "source": [
    "## from here you can filter the database as desired using the product descriptions "
   ]
  },
  {
   "cell_type": "code",
   "execution_count": 24,
   "id": "2bb2accb",
   "metadata": {},
   "outputs": [
    {
     "data": {
      "text/html": [
       "<div><div id=c85a17f2-0f51-47af-86ef-820534acbc9d style=\"display:none; background-color:#9D6CFF; color:white; width:200px; height:30px; padding-left:5px; border-radius:4px; flex-direction:row; justify-content:space-around; align-items:center;\" onmouseover=\"this.style.backgroundColor='#BA9BF8'\" onmouseout=\"this.style.backgroundColor='#9D6CFF'\" onclick=\"window.commands?.execute('create-mitosheet-from-dataframe-output');\">See Full Dataframe in Mito</div> <script> if (window.commands?.hasCommand('create-mitosheet-from-dataframe-output')) document.getElementById('c85a17f2-0f51-47af-86ef-820534acbc9d').style.display = 'flex' </script> <table border=\"1\" class=\"dataframe\">\n",
       "  <thead>\n",
       "    <tr style=\"text-align: right;\">\n",
       "      <th></th>\n",
       "      <th>ProductCode</th>\n",
       "      <th>ProductDescription</th>\n",
       "      <th>CPC21Code</th>\n",
       "      <th>CPC21Description</th>\n",
       "    </tr>\n",
       "  </thead>\n",
       "  <tbody>\n",
       "    <tr>\n",
       "      <th>2</th>\n",
       "      <td>30</td>\n",
       "      <td>Produits de l'elevage, peche, pisciculture</td>\n",
       "      <td>02; 04</td>\n",
       "      <td>0</td>\n",
       "    </tr>\n",
       "    <tr>\n",
       "      <th>510</th>\n",
       "      <td>23</td>\n",
       "      <td>Produits de le peche et de la pisciculture</td>\n",
       "      <td>04</td>\n",
       "      <td>Fish and other fishing products</td>\n",
       "    </tr>\n",
       "    <tr>\n",
       "      <th>680</th>\n",
       "      <td>23</td>\n",
       "      <td>Produits de le peche et de la pisciculture</td>\n",
       "      <td>04</td>\n",
       "      <td>Fish and other fishing products</td>\n",
       "    </tr>\n",
       "  </tbody>\n",
       "</table></div>"
      ],
      "text/plain": [
       "    ProductCode                           ProductDescription CPC21Code  \\\n",
       "2            30   Produits de l'elevage, peche, pisciculture    02; 04   \n",
       "510          23   Produits de le peche et de la pisciculture        04   \n",
       "680          23   Produits de le peche et de la pisciculture        04   \n",
       "\n",
       "                    CPC21Description  \n",
       "2                                  0  \n",
       "510  Fish and other fishing products  \n",
       "680  Fish and other fishing products  "
      ]
     },
     "execution_count": 24,
     "metadata": {},
     "output_type": "execute_result"
    }
   ],
   "source": [
    "\n",
    "df2 = df[df['ProductDescription'].str.contains('peche', na = False)]\n",
    "df2"
   ]
  },
  {
   "cell_type": "markdown",
   "id": "da46b535",
   "metadata": {},
   "source": [
    "#### If you want to download the cleand dataframe to excel file run the below code"
   ]
  },
  {
   "cell_type": "code",
   "execution_count": 25,
   "id": "aeb68c28",
   "metadata": {},
   "outputs": [],
   "source": [
    "\n",
    "df.to_excel('cleaned.xlsx', index = False)"
   ]
  },
  {
   "cell_type": "markdown",
   "id": "0083777d-50b6-420a-948c-aedd3696e5a2",
   "metadata": {},
   "source": [
    "### which code appere the most?"
   ]
  },
  {
   "cell_type": "code",
   "execution_count": 26,
   "id": "c399e0aa-4d89-41a6-b2ec-5e105c966a3d",
   "metadata": {},
   "outputs": [
    {
     "data": {
      "text/plain": [
       "01        28\n",
       "0         25\n",
       "61; 62    20\n",
       "91        17\n",
       "92        17\n",
       "          ..\n",
       "1640       1\n",
       "88; 89     1\n",
       "496        1\n",
       "495        1\n",
       "81         1\n",
       "Name: CPC21Code, Length: 746, dtype: int64"
      ]
     },
     "execution_count": 26,
     "metadata": {},
     "output_type": "execute_result"
    }
   ],
   "source": [
    "df[\"CPC21Code\"].value_counts()\n"
   ]
  },
  {
   "cell_type": "code",
   "execution_count": 27,
   "id": "b19e4fbd-7ac9-4b0d-ac89-05b2a5b19494",
   "metadata": {},
   "outputs": [
    {
     "data": {
      "text/plain": [
       "[Text(0, 0.5, 'CPC21Code'), Text(0.5, 0, 'Frequency')]"
      ]
     },
     "execution_count": 27,
     "metadata": {},
     "output_type": "execute_result"
    },
    {
     "data": {
      "image/png": "[encoded data removed]",
      "text/plain": [
       "<Figure size 720x360 with 1 Axes>"
      ]
     },
     "metadata": {
      "needs_background": "light"
     },
     "output_type": "display_data"
    }
   ],
   "source": [
    "import matplotlib.pyplot as plt\n",
    "%matplotlib inline\n",
    "plt.rcParams[\"figure.figsize\"] = [10,5]\n",
    "ax1 = df[\"CPC21Code\"].value_counts().plot(kind='barh', title= \"Frequency chart using CPC21Code column\")\n",
    "ax1.set_ylim(0,10)\n",
    "ax1.set(xlabel=\"Frequency\", ylabel=\"CPC21Code\")"
   ]
  },
  {
   "cell_type": "markdown",
   "id": "8b6b4f5d-2f2c-4d26-89f3-c091361b54e9",
   "metadata": {},
   "source": [
    "## <strong> using the \"CPC21Code\" columne we can see that the most frequent code is 01</strong>"
   ]
  },
  {
   "cell_type": "code",
   "execution_count": 28,
   "id": "da6b99e2-3ae2-4519-831d-8540abb75e3e",
   "metadata": {},
   "outputs": [
    {
     "data": {
      "text/plain": [
       "[Text(0, 0.5, 'ProductCode'), Text(0.5, 0, 'Frequency')]"
      ]
     },
     "execution_count": 28,
     "metadata": {},
     "output_type": "execute_result"
    },
    {
     "data": {
      "image/png": "[encoded data removed]",
      "text/plain": [
       "<Figure size 720x360 with 1 Axes>"
      ]
     },
     "metadata": {
      "needs_background": "light"
     },
     "output_type": "display_data"
    }
   ],
   "source": [
    "plt.rcParams[\"figure.figsize\"] = [10,5]\n",
    "ax1 = df[\"ProductCode\"].value_counts().plot(kind='barh', title= \"Frequency chart using ProductCode column\")\n",
    "ax1.set_ylim(0,10)\n",
    "ax1.set(xlabel=\"Frequency\", ylabel=\"ProductCode\")"
   ]
  },
  {
   "cell_type": "markdown",
   "id": "1c9f733e-cd94-4fe0-94a0-819e64d3735c",
   "metadata": {},
   "source": [
    "### <strong> from the Productcode column the most frequent code is 10</strong>"
   ]
  },
  {
   "cell_type": "code",
   "execution_count": null,
   "id": "fa3caf1f-e5a6-49d8-a566-5e770c42c9ce",
   "metadata": {},
   "outputs": [],
   "source": [
    "\n"
   ]
  },
  {
   "cell_type": "markdown",
   "id": "8e9679c3-f41a-4517-bbba-10efc9abea5f",
   "metadata": {},
   "source": [
    "## copying data frame for backup ;)"
   ]
  },
  {
   "cell_type": "code",
   "execution_count": 29,
   "id": "51041a7e-7b6e-4362-9cf1-8adc95cb2ac9",
   "metadata": {},
   "outputs": [],
   "source": [
    "df2 = df.copy(deep = True)"
   ]
  },
  {
   "cell_type": "code",
   "execution_count": 30,
   "id": "3995a5a1-ed6e-4831-8fc7-7699318fd3ca",
   "metadata": {},
   "outputs": [
    {
     "data": {
      "text/html": [
       "<div><div id=d9f7d7a1-90ca-490e-95a1-ffa769acb642 style=\"display:none; background-color:#9D6CFF; color:white; width:200px; height:30px; padding-left:5px; border-radius:4px; flex-direction:row; justify-content:space-around; align-items:center;\" onmouseover=\"this.style.backgroundColor='#BA9BF8'\" onmouseout=\"this.style.backgroundColor='#9D6CFF'\" onclick=\"window.commands?.execute('create-mitosheet-from-dataframe-output');\">See Full Dataframe in Mito</div> <script> if (window.commands?.hasCommand('create-mitosheet-from-dataframe-output')) document.getElementById('d9f7d7a1-90ca-490e-95a1-ffa769acb642').style.display = 'flex' </script> <table border=\"1\" class=\"dataframe\">\n",
       "  <thead>\n",
       "    <tr style=\"text-align: right;\">\n",
       "      <th></th>\n",
       "      <th>ProductCode</th>\n",
       "      <th>ProductDescription</th>\n",
       "      <th>CPC21Code</th>\n",
       "      <th>CPC21Description</th>\n",
       "    </tr>\n",
       "  </thead>\n",
       "  <tbody>\n",
       "    <tr>\n",
       "      <th>0</th>\n",
       "      <td>10</td>\n",
       "      <td>Produits de l'agriculture vivriere</td>\n",
       "      <td>01</td>\n",
       "      <td>0</td>\n",
       "    </tr>\n",
       "    <tr>\n",
       "      <th>1</th>\n",
       "      <td>20</td>\n",
       "      <td>Produits de l'agriculture industrielle et d'exportation</td>\n",
       "      <td>01</td>\n",
       "      <td>0</td>\n",
       "    </tr>\n",
       "    <tr>\n",
       "      <th>2</th>\n",
       "      <td>30</td>\n",
       "      <td>Produits de l'elevage, peche, pisciculture</td>\n",
       "      <td>02; 04</td>\n",
       "      <td>0</td>\n",
       "    </tr>\n",
       "    <tr>\n",
       "      <th>3</th>\n",
       "      <td>40</td>\n",
       "      <td>Produits de la foret, exploitation forestiere,..</td>\n",
       "      <td>03</td>\n",
       "      <td>0</td>\n",
       "    </tr>\n",
       "    <tr>\n",
       "      <th>4</th>\n",
       "      <td>51</td>\n",
       "      <td>Hydrocarbures, charbon, ..</td>\n",
       "      <td>11; 12</td>\n",
       "      <td>0</td>\n",
       "    </tr>\n",
       "  </tbody>\n",
       "</table></div>"
      ],
      "text/plain": [
       "  ProductCode                                 ProductDescription CPC21Code  \\\n",
       "0          10                 Produits de l'agriculture vivriere        01   \n",
       "1          20  Produits de l'agriculture industrielle et d'ex...        01   \n",
       "2          30         Produits de l'elevage, peche, pisciculture    02; 04   \n",
       "3          40   Produits de la foret, exploitation forestiere,..        03   \n",
       "4          51                         Hydrocarbures, charbon, ..    11; 12   \n",
       "\n",
       "  CPC21Description  \n",
       "0                0  \n",
       "1                0  \n",
       "2                0  \n",
       "3                0  \n",
       "4                0  "
      ]
     },
     "execution_count": 30,
     "metadata": {},
     "output_type": "execute_result"
    }
   ],
   "source": [
    "df2.head()"
   ]
  },
  {
   "cell_type": "markdown",
   "id": "8e6eee81-f82f-4158-885f-76e7a03882ab",
   "metadata": {},
   "source": [
    "## reading new country and changing it to a dataframe"
   ]
  },
  {
   "cell_type": "code",
   "execution_count": 31,
   "id": "aaae8d18-8b78-4cd7-bb51-6b494c40a9c5",
   "metadata": {},
   "outputs": [
    {
     "data": {
      "text/html": [
       "<div><div id=90b0b70b-3b0a-4b54-9fb3-1f3644c2f82f style=\"display:none; background-color:#9D6CFF; color:white; width:200px; height:30px; padding-left:5px; border-radius:4px; flex-direction:row; justify-content:space-around; align-items:center;\" onmouseover=\"this.style.backgroundColor='#BA9BF8'\" onmouseout=\"this.style.backgroundColor='#9D6CFF'\" onclick=\"window.commands?.execute('create-mitosheet-from-dataframe-output');\">See Full Dataframe in Mito</div> <script> if (window.commands?.hasCommand('create-mitosheet-from-dataframe-output')) document.getElementById('90b0b70b-3b0a-4b54-9fb3-1f3644c2f82f').style.display = 'flex' </script> <table border=\"1\" class=\"dataframe\">\n",
       "  <thead>\n",
       "    <tr style=\"text-align: right;\">\n",
       "      <th></th>\n",
       "      <th>ProductCode</th>\n",
       "      <th>ProductDescription</th>\n",
       "    </tr>\n",
       "  </thead>\n",
       "  <tbody>\n",
       "    <tr>\n",
       "      <th>0</th>\n",
       "      <td>P01-02</td>\n",
       "      <td>Products of agriculture, hunting and livestock</td>\n",
       "    </tr>\n",
       "    <tr>\n",
       "      <th>1</th>\n",
       "      <td>P03</td>\n",
       "      <td>Forestry and logging products</td>\n",
       "    </tr>\n",
       "    <tr>\n",
       "      <th>2</th>\n",
       "      <td>P04</td>\n",
       "      <td>Fish and other fishing products</td>\n",
       "    </tr>\n",
       "    <tr>\n",
       "      <th>3</th>\n",
       "      <td>P11-16</td>\n",
       "      <td>Ores and minerals</td>\n",
       "    </tr>\n",
       "    <tr>\n",
       "      <th>4</th>\n",
       "      <td>P12</td>\n",
       "      <td>Crude petroleum and natural gas</td>\n",
       "    </tr>\n",
       "    <tr>\n",
       "      <th>...</th>\n",
       "      <td>...</td>\n",
       "      <td>...</td>\n",
       "    </tr>\n",
       "    <tr>\n",
       "      <th>15</th>\n",
       "      <td>P84</td>\n",
       "      <td>Telecommunications, broadcasting and information supply services</td>\n",
       "    </tr>\n",
       "    <tr>\n",
       "      <th>16</th>\n",
       "      <td>P91</td>\n",
       "      <td>Public administration and other services provided to the community as a whole; compulsory social security services</td>\n",
       "    </tr>\n",
       "    <tr>\n",
       "      <th>17</th>\n",
       "      <td>P92</td>\n",
       "      <td>Education services</td>\n",
       "    </tr>\n",
       "    <tr>\n",
       "      <th>18</th>\n",
       "      <td>P93</td>\n",
       "      <td>Human health and social care services</td>\n",
       "    </tr>\n",
       "    <tr>\n",
       "      <th>19</th>\n",
       "      <td>P95-98</td>\n",
       "      <td>Community, social and personal services</td>\n",
       "    </tr>\n",
       "  </tbody>\n",
       "</table></div>"
      ],
      "text/plain": [
       "   ProductCode                                 ProductDescription\n",
       "0      P01-02      Products of agriculture, hunting and livestock\n",
       "1          P03                      Forestry and logging products\n",
       "2          P04                    Fish and other fishing products\n",
       "3       P11-16                                  Ores and minerals\n",
       "4          P12                    Crude petroleum and natural gas\n",
       "5          P17         Electricity, town gas, steam and hot water\n",
       "6       P18-94  Natural water,Sewage and waste collection, tre...\n",
       "7       P21-49                             Manufacturing products\n",
       "8       P53-54            Constructions and construction services\n",
       "9       P61-62                        Distributive trade services\n",
       "10         P63  Accommodation, food and beverage serving services\n",
       "11      P64-68                                 Transport services\n",
       "12         P71                     Financial and related services\n",
       "13         P72                               Real estate services\n",
       "14  P73-89, 84                   Business and production services\n",
       "15         P84  Telecommunications, broadcasting and informati...\n",
       "16         P91  Public administration and other services provi...\n",
       "17         P92                                 Education services\n",
       "18         P93              Human health and social care services\n",
       "19      P95-98            Community, social and personal services"
      ]
     },
     "execution_count": 31,
     "metadata": {},
     "output_type": "execute_result"
    }
   ],
   "source": [
    "new_country = pd.read_excel('GHA_products.xlsx', sheet_name= 'Sheet1')\n",
    "new_country"
   ]
  },
  {
   "cell_type": "code",
   "execution_count": 32,
   "id": "9420de47-9965-4649-9023-20599afd20ba",
   "metadata": {},
   "outputs": [
    {
     "data": {
      "text/plain": [
       "(20, 2)"
      ]
     },
     "execution_count": 32,
     "metadata": {},
     "output_type": "execute_result"
    }
   ],
   "source": [
    "new_country.shape"
   ]
  },
  {
   "cell_type": "markdown",
   "id": "0cffac5e-3463-43be-b36b-8662aec17146",
   "metadata": {},
   "source": [
    "### created a file that containf CPC21Code and there respective code"
   ]
  },
  {
   "cell_type": "code",
   "execution_count": 33,
   "id": "67555470-87cd-4533-a039-b847b5355674",
   "metadata": {},
   "outputs": [],
   "source": [
    "CPC21 = pd.read_csv('CPC21Code.csv')"
   ]
  },
  {
   "cell_type": "code",
   "execution_count": 34,
   "id": "915c8cc8-9363-441a-8ae7-d7b6dd4eb521",
   "metadata": {},
   "outputs": [
    {
     "data": {
      "text/html": [
       "<div><div id=95e9013c-ba2a-4f6f-9e3f-c05186c0a0a9 style=\"display:none; background-color:#9D6CFF; color:white; width:200px; height:30px; padding-left:5px; border-radius:4px; flex-direction:row; justify-content:space-around; align-items:center;\" onmouseover=\"this.style.backgroundColor='#BA9BF8'\" onmouseout=\"this.style.backgroundColor='#9D6CFF'\" onclick=\"window.commands?.execute('create-mitosheet-from-dataframe-output');\">See Full Dataframe in Mito</div> <script> if (window.commands?.hasCommand('create-mitosheet-from-dataframe-output')) document.getElementById('95e9013c-ba2a-4f6f-9e3f-c05186c0a0a9').style.display = 'flex' </script> <table border=\"1\" class=\"dataframe\">\n",
       "  <thead>\n",
       "    <tr style=\"text-align: right;\">\n",
       "      <th></th>\n",
       "      <th>ProductDescription</th>\n",
       "      <th>CPC21Code</th>\n",
       "    </tr>\n",
       "  </thead>\n",
       "  <tbody>\n",
       "    <tr>\n",
       "      <th>0</th>\n",
       "      <td>Activities of sports clubs</td>\n",
       "      <td>96512</td>\n",
       "    </tr>\n",
       "    <tr>\n",
       "      <th>1</th>\n",
       "      <td>Defence activities</td>\n",
       "      <td>9124; 9125</td>\n",
       "    </tr>\n",
       "    <tr>\n",
       "      <th>2</th>\n",
       "      <td>Funeral and related activities</td>\n",
       "      <td>973</td>\n",
       "    </tr>\n",
       "    <tr>\n",
       "      <th>3</th>\n",
       "      <td>Hairdressing and other beauty treatment</td>\n",
       "      <td>972</td>\n",
       "    </tr>\n",
       "    <tr>\n",
       "      <th>4</th>\n",
       "      <td>Higher education</td>\n",
       "      <td>925</td>\n",
       "    </tr>\n",
       "  </tbody>\n",
       "</table></div>"
      ],
      "text/plain": [
       "                         ProductDescription   CPC21Code\n",
       "0                Activities of sports clubs       96512\n",
       "1                        Defence activities  9124; 9125\n",
       "2            Funeral and related activities         973\n",
       "3   Hairdressing and other beauty treatment         972\n",
       "4                          Higher education         925"
      ]
     },
     "execution_count": 34,
     "metadata": {},
     "output_type": "execute_result"
    }
   ],
   "source": [
    "CPC21.head()"
   ]
  },
  {
   "cell_type": "code",
   "execution_count": 35,
   "id": "44c70376-dcfd-4c53-9eec-82382326667b",
   "metadata": {},
   "outputs": [
    {
     "data": {
      "text/plain": [
       "(1051, 2)"
      ]
     },
     "execution_count": 35,
     "metadata": {},
     "output_type": "execute_result"
    }
   ],
   "source": [
    "CPC21.shape"
   ]
  },
  {
   "cell_type": "markdown",
   "id": "0b613794-84d4-4750-a651-488df99db582",
   "metadata": {},
   "source": [
    "### Loop over new_country "
   ]
  },
  {
   "cell_type": "code",
   "execution_count": 36,
   "id": "08e463c4-4a40-4af9-a437-e57a2c9e28da",
   "metadata": {},
   "outputs": [],
   "source": [
    "ghana_product_description = new_country.ProductDescription;\n",
    "\n",
    "matched_descriptions = {};\n",
    "for product_description in ghana_product_description:\n",
    "  line = product_description.split()\n",
    "  line = [word for word in line if word.lower() not in ['and', 'of', 'services', 'product', 'products', 'to', 'the', 'as', 'a', 'related', 'other']]\n",
    "  \n",
    "  for description in line:\n",
    "    cp = CPC21[CPC21['ProductDescription'].str.contains(description, na = False)]\n",
    "    if cp.empty:\n",
    "      continue;\n",
    "    else:\n",
    "      matched_descriptions[product_description] = cp['CPC21Code'].values[0]\n",
    "      break\n",
    "\n",
    "new_country['CPC21Code'] = new_country['ProductDescription'].map(matched_descriptions)"
   ]
  },
  {
   "cell_type": "markdown",
   "id": "a9dc8ebc",
   "metadata": {},
   "source": [
    "### Merging the new_country with the database"
   ]
  },
  {
   "cell_type": "code",
   "execution_count": 37,
   "id": "df2668b0",
   "metadata": {},
   "outputs": [
    {
     "data": {
      "text/plain": [
       "(1303, 4)"
      ]
     },
     "execution_count": 37,
     "metadata": {},
     "output_type": "execute_result"
    }
   ],
   "source": [
    "\n",
    "df3 = pd.concat([df2, new_country], ignore_index=True)\n",
    "\n",
    "df3.shape"
   ]
  },
  {
   "cell_type": "code",
   "execution_count": null,
   "id": "e82c1e7f-36c8-434a-b443-f586ca9d0ef1",
   "metadata": {},
   "outputs": [],
   "source": []
  }
 ],
 "metadata": {
  "kernelspec": {
   "display_name": "Python 3 (ipykernel)",
   "language": "python",
   "name": "python3"
  },
  "language_info": {
   "codemirror_mode": {
    "name": "ipython",
    "version": 3
   },
   "file_extension": ".py",
   "mimetype": "text/x-python",
   "name": "python",
   "nbconvert_exporter": "python",
   "pygments_lexer": "ipython3",
   "version": "3.7.6"
  },
  "vscode": {
   "interpreter": {
    "hash": "31f2aee4e71d21fbe5cf8b01ff0e069b9275f58929596ceb00d14d90e3e16cd6"
   }
  }
 },
 "nbformat": 4,
 "nbformat_minor": 5
}
