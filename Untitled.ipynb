{
 "cells": [
  {
   "cell_type": "code",
   "execution_count": 1,
   "id": "8d544be7",
   "metadata": {},
   "outputs": [
    {
     "data": {
      "text/plain": [
       "[PosixPath('/home/franol/prodd/ProductMatch/CRD/ProductMatch_2015.xlsx'),\n",
       " PosixPath('/home/franol/prodd/ProductMatch/DJI/ProductMatch_2013.xlsx'),\n",
       " PosixPath('/home/franol/prodd/ProductMatch/BDI/ProductMatch_2014.xlsx'),\n",
       " PosixPath('/home/franol/prodd/ProductMatch/CIV/ProductMatch_2016.xlsx'),\n",
       " PosixPath('/home/franol/prodd/ProductMatch/ZAF/ProductMatch_2015.xlsx'),\n",
       " PosixPath('/home/franol/prodd/ProductMatch/MAR/ProductMatch_2016.xlsx'),\n",
       " PosixPath('/home/franol/prodd/ProductMatch/MLI/ProductMatch_2014.xlsx'),\n",
       " PosixPath('/home/franol/prodd/ProductMatch/NER/ProductMatch_2016.xlsx'),\n",
       " PosixPath('/home/franol/prodd/ProductMatch/UGA/ProductMatch_2010.xlsx'),\n",
       " PosixPath('/home/franol/prodd/ProductMatch/CMR/ProductMatch_2016.xlsx'),\n",
       " PosixPath('/home/franol/prodd/ProductMatch/BFA/ProductMatch_2015.xlsx'),\n",
       " PosixPath('/home/franol/prodd/ProductMatch/BEN/ProductMatch_2015.xlsx'),\n",
       " PosixPath('/home/franol/prodd/ProductMatch/MRT/ProductMatch_2015.xlsx'),\n",
       " PosixPath('/home/franol/prodd/ProductMatch/GIN/ProductMatch_2016.xlsx'),\n",
       " PosixPath('/home/franol/prodd/ProductMatch/CAF/ProductMatch_2016.xlsx'),\n",
       " PosixPath('/home/franol/prodd/ProductMatch/TZA/ProductMatch_2007.xlsx'),\n",
       " PosixPath('/home/franol/prodd/ProductMatch/TGO/ProductMatch_2014.xlsx'),\n",
       " PosixPath('/home/franol/prodd/ProductMatch/NGA/ProductMatch_2010.xlsx'),\n",
       " PosixPath('/home/franol/prodd/ProductMatch/TCD/ProductMatch_2016.xlsx'),\n",
       " PosixPath('/home/franol/prodd/ProductMatch/COM/ProductMatch_2015.xlsx'),\n",
       " PosixPath('/home/franol/prodd/ProductMatch/SEN/ProductMatch_2014.xlsx'),\n",
       " PosixPath('/home/franol/prodd/ProductMatch/ZMB/ProductMatch_2010.xlsx'),\n",
       " PosixPath('/home/franol/prodd/ProductMatch/MDG/ProductMatch_2007.xlsx')]"
      ]
     },
     "execution_count": 1,
     "metadata": {},
     "output_type": "execute_result"
    }
   ],
   "source": [
    "from pathlib import Path\n",
    "\n",
    "input_dir = Path.cwd() / \"/home/franol/prodd\"\n",
    "\n",
    "# glob = specific folder\n",
    "# rglob = including subfolder\n",
    "files = list(input_dir.rglob(\"*.xls*\"))\n",
    "files"
   ]
  },
  {
   "cell_type": "code",
   "execution_count": null,
   "id": "d87b76f8",
   "metadata": {},
   "outputs": [],
   "source": []
  }
 ],
 "metadata": {
  "kernelspec": {
   "display_name": "Python 3 (ipykernel)",
   "language": "python",
   "name": "python3"
  },
  "language_info": {
   "codemirror_mode": {
    "name": "ipython",
    "version": 3
   },
   "file_extension": ".py",
   "mimetype": "text/x-python",
   "name": "python",
   "nbconvert_exporter": "python",
   "pygments_lexer": "ipython3",
   "version": "3.7.6"
  }
 },
 "nbformat": 4,
 "nbformat_minor": 5
}
